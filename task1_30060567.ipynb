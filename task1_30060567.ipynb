{
 "cells": [
  {
   "cell_type": "markdown",
   "metadata": {},
   "source": [
    "## FIT 5196 ASSIGNMENT 1 TASK 1"
   ]
  },
  {
   "cell_type": "markdown",
   "metadata": {},
   "source": [
    "#### Student Name : Surbhi Sanjay Peshwe\n",
    "####  Student ID : 30060567\n",
    "#### Date : 03/09/2018"
   ]
  },
  {
   "cell_type": "markdown",
   "metadata": {},
   "source": [
    "Libraries used :\n",
    "\n",
    "1. re (for regular expression)\n",
    "2. json (for converting data to json file)"
   ]
  },
  {
   "cell_type": "markdown",
   "metadata": {},
   "source": [
    "### Introduction"
   ]
  },
  {
   "cell_type": "markdown",
   "metadata": {},
   "source": [
    "This task is to analyse the unstructed textual data. There is a dat file named 30060567.dat which consist advertisements in unstructered format. The required task is to :\n",
    "* Extract the key data\n",
    "* Convert the extracted data to xml file\n",
    "* convert the extracted data to json file\n",
    " "
   ]
  },
  {
   "cell_type": "markdown",
   "metadata": {},
   "source": [
    "### 1. Importing Libraries"
   ]
  },
  {
   "cell_type": "code",
   "execution_count": 2,
   "metadata": {},
   "outputs": [],
   "source": [
    "#import library\n",
    "#!pip install \"xmltodict\"\n",
    "import re\n",
    "import json"
   ]
  },
  {
   "cell_type": "code",
   "execution_count": 3,
   "metadata": {},
   "outputs": [],
   "source": [
    "#reading the dat file \n",
    "with open('30060567.dat','r') as infile:\n",
    "    datfile=infile.read().split('------------------------------')\n"
   ]
  },
  {
   "cell_type": "markdown",
   "metadata": {},
   "source": [
    "### 2. Parsing dat file and Extracting the data"
   ]
  },
  {
   "cell_type": "markdown",
   "metadata": {},
   "source": [
    "Firstly, we need examine the dat file. Regular expression where constructed in such a way that it extracts the description of the key elements. The key elements are in different combinations so the regular expression are fetching the decription for all combinations of keys.\n",
    "The regular expressions are:\n",
    "1.ID= (?<=ID:\\s)(.[^:]*)$\n",
    "2.LOCATION= (?<=LOCATIONS:\\s)(.[^:]*)^|(?<=_LOCS:\\s)(.[^:]*)^|(?<=LOCATION:\\s)(.[^:]*)^|(?<=_LOC:\\s)(.[^:]*)$\n",
    "3.QUALIFICATION= (?<=qualifications:\\s)(.[^:]*)^|(?<=REQUIRED QUALIFICATIONS:\\s)(.[^:]*)^|(?<=QUALIFS:\\s)(.[^:]*)^|(?<=REQ_QUALS:\\s)(.[^:]*)^|(?<=QUALIFICATION:\\s)(.[^:]*)$\n",
    "4.RESPONSIBILTY= (?<=RESPONSIBILITY:\\s)(.[^:]*)^|(?<=JOB RESPONSIBILITIES:\\s)(.[^:]*)^|(?<=JOB_RESPS:\\s)(.[^:]*)^|(?<=RESP:\\s)(.[^:]*)$\n",
    "5.TITLES= (?<=TITLE:\\s)(.[^:]*)^|(?<=JOB_T:\\s)(.[^:]*)^|(?<=_TTL:\\s)(.[^:]*)^|(?<=titles:\\s)(.[^:]*)^| (?<=TITLES:\\s)(.[^:]*)$\n",
    "6. DESCRIPTION= (?<=JOB DESCRIPTION:\\s)(.[^:]*)^|(?<=DESCRIPTION:\\s)(.[^:]*)^|(?<=_description:\\s)(.[^:]*)^|(?<=JOB_DESC:\\s)(.[^:]*)$\n",
    "7.START DATE= (?<=START DATE:\\s)(.[^:]*)^|(?<=start_date:\\s)(.[^:]*)^|(?<=START_DA:\\s)(.[^:]*)^|(?<=DATE_START:\\s)(.[^:]*)^|(?<=DATES:\\s)(.[^:]*)$\n",
    "8.DEADLINE=(?<=DEAD_LINE:\\s)(.[^:]*)^|(?<=DEADLINES:\\s)(.[^:]*)^|(?<=APPLICATION_DL:\\s)(.[^:]*)^|(?<=APPLICATION_DEADL:\\s)(.[^:]*)$\n",
    "9.PROCEDURE=(?<=PROCEDURES:\\s)(.[^:]*)^|(?<=JOB_PROCS:\\s)(.[^:]*)^|(?<=PROCEDURE:\\s)(.[^:]*)^|(?<=procedures:\\s)(.[^:]*)$\n",
    "10.ABOUT COMPANY=(?<=ABOUT COMPANY:\\s)(.[^:]*)^|(?<=ABOUT:\\s)(.[^:]*)^|(?<=COMPANYS_INFO:\\s)(.[^:]*)^|(?<=_info:\\s)(.[^:]*)^| (?<=about_company:\\s)(.[^:]*)$\n",
    "11.SALARY=(?<=SALARY:\\s)(.[^:]*)^|(?<=JOB_SAL:\\s)(.[^:]*)^|(?<=salary:\\s)$\n",
    "\n",
    "Using the above regular expression the description for keys are fetched and then written to the xml file."
   ]
  },
  {
   "cell_type": "code",
   "execution_count": 4,
   "metadata": {},
   "outputs": [
    {
     "name": "stdout",
     "output_type": "stream",
     "text": [
      "['38381']\n",
      "[('', '', '', 'Yerevan, Armenia')]\n",
      "[(' - University degree in Economics/ Management;\\n- At least 3 years of work experience in a logistics management company,\\ninternational freight forwarding sector and inventory control;\\n- Strong knowledge of the international trade regulations, including\\ncustoms procedure;\\n- Excellent knowledge of English, Armenian and Russian languages;\\n- Strong analytical and organizational skills;\\n- Team oriented and creative thinking;\\n- Understanding of full algorithm of supply chain management process;\\n- Ability to organize and manage multiple tasks;\\n- Strong ability to communicate verbally and in writing with vendors and\\ncustomers;\\n- Ability to lead, manage and draw the working process of the\\ndepartment;\\n- Computer literacy.\\nREMUNERATION/\\n', '', '', '', '')]\n",
      "['nil']\n",
      "[('Business and Financial Analyst\\n', '', '', '', '')]\n",
      "[('N/A\\n', '', '', '')]\n",
      "[('10 June 2010\\n', '', '', '', '')]\n",
      "[('29 December 2005\\n', '', '', '')]\n",
      "[('', '', 'Required documents to be submitted by the citizens of\\n', '')]\n",
      "[(' World Vision is a Christian humanitarian and development\\norganization working to create lasting change in the lives Established in\\n1950, World Vision operates in nearly 100 countries worldwide. It is a\\nChristian relief, development and advocacy organization dedicated to\\nworking with children, families and communities, to overcome poverty and\\ninjustice. WV pursues life in all its fullness for every child and serve\\nall people regardless of religion, race, ethnicity or gender. World\\nVision first came to Armenia for providing emergency aid to the victims\\nof December 1988 devastating earthquake. During the next years WVs\\nprojects have gone beyond meeting the demands of crisis situations to\\nchanging the quality of life in entire communities and helping Armenians\\nto restore their country. World Vision Armenia works in 194 communities\\nin six marzes of Armenia and in Yerevan supporting 25 000 children and\\ntheir families. The Organization fulfills advocacy, health care,\\neducation, economic development, child protection and spiritual growth\\nactivities. WV Armenia operates mainly through its 10-15 years long-term\\nArea Development Programs (ADP) that are predominantly funded through\\nchild sponsorship. ADPs are focused on promoting child well being through\\ncommunity participation and ownership.\\n', '', '', '', '')]\n",
      "['nil']\n"
     ]
    }
   ],
   "source": [
    "#Creating empty lists to store the data \n",
    "id_x = []\n",
    "location_x = []\n",
    "rq_x = []\n",
    "jr_x = []\n",
    "title_x = []\n",
    "jb_x = []\n",
    "sd_x = []\n",
    "ad_x = []\n",
    "ap_x = []\n",
    "ac_x = []\n",
    "s_x = []\n",
    "\n",
    "\n",
    "#Searching ID's\n",
    "for a in range(len(datfile)-1):\n",
    "    if re.findall(r'ID: (?<=ID:\\s)(.[^:]*)$',datfile[a],re.I|re.M|re.DOTALL):\n",
    "        id1 = re.findall(r'ID: (?<=ID:\\s)(.[^:]*)$', datfile[a],re.I|re.M|re.DOTALL)\n",
    "    else:\n",
    "        id1=[\"nil\"]\n",
    "            \n",
    "    id_x.append(id1)\n",
    "        \n",
    "#Searching LOCATION description    \n",
    "    if re.findall(r'(?<=LOCATIONS:\\s)(.[^:]*)^|(?<=_LOCS:\\s)(.[^:]*)^|(?<=LOCATION:\\s)(.[^:]*)^|(?<=_LOC:\\s)(.[^:]*)$',datfile[a],re.I|re.M|re.DOTALL):\n",
    "        location=re.findall(r'(?<=LOCATIONS:\\s)(.[^:]*)^|(?<=_LOCS:\\s)(.[^:]*)^|(?<=LOCATION:\\s)(.[^:]*)^|(?<=_LOC:\\s)(.[^:]*)$',datfile[a],re.I|re.M|re.DOTALL)\n",
    "    else:\n",
    "        location=[\"nil\"]\n",
    "        \n",
    "    location_x.append(location)\n",
    "\n",
    "    \n",
    "#Searching QUALIFICATION description      \n",
    "    if re.findall(r'(?<=qualifications:\\s)(.[^:]*)^|(?<=REQUIRED QUALIFICATIONS:\\s)(.[^:]*)^|(?<=QUALIFS:\\s)(.[^:]*)^|(?<=REQ_QUALS:\\s)(.[^:]*)^|(?<=QUALIFICATION:\\s)(.[^:]*)$',datfile[a],re.I|re.M|re.DOTALL):\n",
    "        qualification=re.findall(r'(?<=qualifications:\\s)(.[^:]*)^|(?<=REQUIRED QUALIFICATIONS:\\s)(.[^:]*)^|(?<=QUALIFS:\\s)(.[^:]*)^|(?<=REQ_QUALS:\\s)(.[^:]*)^|(?<=QUALIFICATION:\\s)(.[^:]*)$',datfile[a],re.I|re.M|re.DOTALL)\n",
    "    else:\n",
    "        qualification=[\"nil\"]\n",
    "            \n",
    "    rq_x.append(qualification)\n",
    "\n",
    " #Searching RESPONSIBILITY description     \n",
    "    if re.findall(r'(?<=RESPONSIBILITY:\\s)(.[^:]*)^|(?<=JOB RESPONSIBILITIES:\\s)(.[^:]*)^|(?<=JOB_RESPS:\\s)(.[^:]*)^|(?<=RESP:\\s)(.[^:]*)$',datfile[a],re.I|re.M|re.DOTALL):\n",
    "        responsibility=re.findall(r'(?<=RESPONSIBILITY:\\s)(.[^:]*)^|(?<=JOB RESPONSIBILITIES:\\s)(.[^:]*)^|(?<=JOB_RESPS:\\s)(.[^:]*)^|(?<=RESP:\\s)(.[^:]*)$',datfile[a],re.I|re.M|re.DOTALL)\n",
    "    else:\n",
    "        responsibility=[\"nil\"]\n",
    "        \n",
    "    jr_x.append(responsibility)\n",
    "    \n",
    " #Searching TITLE description        \n",
    "    if re.findall(r'(?<=TITLE:\\s)(.[^:]*)^|(?<=JOB_T:\\s)(.[^:]*)^|(?<=_TTL:\\s)(.[^:]*)^|(?<=titles:\\s)(.[^:]*)^| (?<=TITLES:\\s)(.[^:]*)$',datfile[a],re.I|re.M|re.DOTALL):\n",
    "        title=re.findall(r'(?<=TITLE:\\s)(.[^:]*)^|(?<=JOB_T:\\s)(.[^:]*)^|(?<=_TTL:\\s)(.[^:]*)^|(?<=titles:\\s)(.[^:]*)^| (?<=TITLES:\\s)(.[^:]*)$',datfile[a],re.I|re.M|re.DOTALL)\n",
    "    else:\n",
    "        title=[\"nil\"]\n",
    "        \n",
    "    title_x.append(title)\n",
    "        \n",
    "#Searching JOB DESCRIPTION description         \n",
    "    if re.findall(r'(?<=JOB DESCRIPTION:\\s)(.[^:]*)^|(?<=DESCRIPTION:\\s)(.[^:]*)^|(?<=_description:\\s)(.[^:]*)^|(?<=JOB_DESC:\\s)(.[^:]*)$',datfile[a],re.I|re.M|re.DOTALL):\n",
    "        description=re.findall(r'(?<=JOB DESCRIPTION:\\s)(.[^:]*)^|(?<=DESCRIPTION:\\s)(.[^:]*)^|(?<=_description:\\s)(.[^:]*)^|(?<=JOB_DESC:\\s)(.[^:]*)$',datfile[a],re.I|re.M|re.DOTALL)\n",
    "    else:\n",
    "        description=[\"nil\"]\n",
    "        \n",
    "    jb_x.append(description)\n",
    "\n",
    "#Searching START DATE description \n",
    "    if re.findall(r'(?<=START DATE:\\s)(.[^:]*)^|(?<=start_date:\\s)(.[^:]*)^|(?<=START_DA:\\s)(.[^:]*)^|(?<=DATE_START:\\s)(.[^:]*)^|(?<=DATES:\\s)(.[^:]*)$',datfile[a],re.I|re.M|re.DOTALL):\n",
    "        start_dt=re.findall(r'(?<=START DATE:\\s)(.[^:]*)^|(?<=start_date:\\s)(.[^:]*)^|(?<=START_DA:\\s)(.[^:]*)^|(?<=DATE_START:\\s)(.[^:]*)^|(?<=DATES:\\s)(.[^:]*)$',datfile[a],re.I|re.M|re.DOTALL) \n",
    "    else:\n",
    "        start_dt=[\"nil\"]\n",
    "        \n",
    "    sd_x.append(start_dt)\n",
    "    \n",
    "#Searching DEADLINE description \n",
    "        \n",
    "    if re.findall(r'(?<=DEAD_LINE:\\s)(.[^:]*)^|(?<=DEADLINES:\\s)(.[^:]*)^|(?<=APPLICATION_DL:\\s)(.[^:]*)^|(?<=APPLICATION_DEADL:\\s)(.[^:]*)$',datfile[a],re.I|re.M|re.DOTALL):\n",
    "        deadline=re.findall(r'(?<=DEAD_LINE:\\s)(.[^:]*)^|(?<=DEADLINES:\\s)(.[^:]*)^|(?<=APPLICATION_DL:\\s)(.[^:]*)^|(?<=APPLICATION_DEADL:\\s)(.[^:]*)$',datfile[a],re.I|re.M|re.DOTALL)\n",
    "    else:\n",
    "        deadline=[\"nil\"]\n",
    "        \n",
    "    ad_x.append(deadline)\n",
    "\n",
    "#Searching PROCEDURE description \n",
    "    if re.findall(r'(?<=PROCEDURES:\\s)(.[^:]*)^|(?<=JOB_PROCS:\\s)(.[^:]*)^|(?<=PROCEDURE:\\s)(.[^:]*)^|(?<=procedures:\\s)(.[^:]*)$',datfile[a],re.I|re.M|re.DOTALL):\n",
    "        procedure=re.findall(r'(?<=PROCEDURES:\\s)(.[^:]*)^|(?<=JOB_PROCS:\\s)(.[^:]*)^|(?<=PROCEDURE:\\s)(.[^:]*)^|(?<=procedures:\\s)(.[^:]*)$',datfile[a],re.I|re.M|re.DOTALL)\n",
    "    else:\n",
    "        procedure=[\"nil\"]\n",
    "        \n",
    "    ap_x.append(procedure)\n",
    "        \n",
    "#Searching ABOUT COMPANY description \n",
    "    if re.findall(r'(?<=ABOUT COMPANY:\\s)(.[^:]*)^|(?<=ABOUT:\\s)(.[^:]*)^|(?<=COMPANYS_INFO:\\s)(.[^:]*)^|(?<=_info:\\s)(.[^:]*)^| (?<=about_company:\\s)(.[^:]*)$',datfile[a],re.I|re.M|re.DOTALL):\n",
    "        abt_company=re.findall(r'(?<=ABOUT COMPANY:\\s)(.[^:]*)^|(?<=ABOUT:\\s)(.[^:]*)^|(?<=COMPANYS_INFO:\\s)(.[^:]*)^|(?<=_info:\\s)(.[^:]*)^| (?<=about_company:\\s)(.[^:]*)$',datfile[a],re.I|re.M|re.DOTALL)\n",
    "    else:\n",
    "        abt_company=[\"nil\"]\n",
    "        \n",
    "    ac_x.append(abt_company)\n",
    "   \n",
    " #Searching SALARY description \n",
    "    if re.findall(r'(?<=SALARY:\\s)(.[^:]*)^|(?<=JOB_SAL:\\s)(.[^:]*)^|(?<=salary:\\s)$',datfile[a],re.I|re.M|re.DOTALL):\n",
    "        salary=re.findall(r'(?<=SALARY:\\s)(.[^:]*)^|(?<=JOB_SAL:\\s)(.[^:]*)^|(?<=salary:\\s)$',datfile[a],re.I|re.M|re.DOTALL)\n",
    "    else:\n",
    "        salary=[\"nil\"]\n",
    "        \n",
    "    \n",
    "    s_x.append(salary)\n",
    "\n",
    "#counting total number of ids\n",
    "#print(len(id_x))\n",
    " \n",
    "print(id1)\n",
    "print(location)\n",
    "print(qualification)\n",
    "print(responsibility)\n",
    "print(title)\n",
    "print(description)\n",
    "print(start_dt)\n",
    "print(deadline)\n",
    "print(procedure)\n",
    "print(abt_company)\n",
    "print(salary)"
   ]
  },
  {
   "cell_type": "markdown",
   "metadata": {},
   "source": [
    "After fetching the data from dat file, then it is written to xml file without using libraries. each key element description  is written in the same key element tags in xml file.  "
   ]
  },
  {
   "cell_type": "code",
   "execution_count": 9,
   "metadata": {},
   "outputs": [],
   "source": [
    "# writing to xml file\n",
    "i = 0\n",
    "outputfile = open('30060567.xml','w')\n",
    "#length of th total ID's\n",
    "while ( i < 32297 ):\n",
    "    xmlString = ' '\n",
    "    xmlString += \"<listing>\\n\\t\"\n",
    "    xmlString += \"<id> %s</id>\\n\\t\\t\" %(id_x[i])\n",
    "    xmlString += \"<location>%s</location>\\n\\t\\t\" %(location_x[i])\n",
    "    xmlString += \"<required qualification>%s</required qualification>\\n\\t\\t\" %(rq_x[i])\n",
    "    xmlString += \"<job_responsibilty>%s</job_responsibilty>\\n\\t\\t\" %(jr_x[i])\n",
    "    xmlString += \"<title>%s</title>\\n\\t\\t\" %(title_x[i])\n",
    "    xmlString += \"<job_description>%s</job_description>\\n\\t\\t\" %(jb_x[i])\n",
    "    xmlString += \"<start date>%s</start date>\\n\\t\\t\" %(sd_x[i])\n",
    "    xmlString += \"<application_deadline>%s</application deadline>\\n\\t\\t\" %(ad_x[i])\n",
    "    xmlString += \"<application_procedure>%s</application_procedure>\\n\\t\\t\" %(ap_x[i])\n",
    "    xmlString += \"<about company>%s</about company>\\n\\t\\t\" %(ac_x[i])\n",
    "    xmlString += \"<salary>%s</salary>\\n\\t\\t\" %(s_x[i])\n",
    "    xmlString += \"</listing>\\n\\t\"\n",
    "    outputfile.write(xmlString)\n",
    "    i += 1\n",
    "\n",
    "outputfile.close()\n",
    "    "
   ]
  },
  {
   "cell_type": "markdown",
   "metadata": {},
   "source": [
    "### 3. Summary"
   ]
  },
  {
   "cell_type": "markdown",
   "metadata": {},
   "source": [
    "This task measures the understanding of the analyses of the unstructured text data and how it can be parsed.\n",
    "* Parsing and Extraction : By using re package, regular expression which were constructed are used to extract the data from dat file. Here the regular expression are implemented in python programming language to extract data. With the help of findall() it was possible to access the hierarchical in the dat file with only few inspections. The regular expression was build in such a way that data was fetched from  Key elements  which were in various combination. Finally, the extracted data was written in xml file without using libraries.\n"
   ]
  },
  {
   "cell_type": "markdown",
   "metadata": {},
   "source": [
    "### 4. References"
   ]
  },
  {
   "cell_type": "markdown",
   "metadata": {},
   "source": [
    "1. python?, H. (2018). How to fetch data from a text file using regex in python?. [online] Stack Overflow. Available at: https://stackoverflow.com/questions/16417057/how-to-fetch-data-from-a-text-file-using-regex-in-python.\n",
    "2. Python, r. (2018). re.search Multiple lines Python. [online] Stack Overflow. Available at: https://stackoverflow.com/questions/18521319/re-search-multiple-lines-python \n",
    "3. Docs.python.org. (2018). Regular Expression HOWTO — Python 2.7.15 documentation. [online] Available at: https://docs.python.org/2/howto/regex.html.\n",
    "4. FIT 5196 Tutorial week 3\n",
    "5. FIT 5196 Introduction to Regular Expression"
   ]
  },
  {
   "cell_type": "code",
   "execution_count": null,
   "metadata": {},
   "outputs": [],
   "source": []
  }
 ],
 "metadata": {
  "kernelspec": {
   "display_name": "Python 3",
   "language": "python",
   "name": "python3"
  },
  "language_info": {
   "codemirror_mode": {
    "name": "ipython",
    "version": 3
   },
   "file_extension": ".py",
   "mimetype": "text/x-python",
   "name": "python",
   "nbconvert_exporter": "python",
   "pygments_lexer": "ipython3",
   "version": "3.6.5"
  }
 },
 "nbformat": 4,
 "nbformat_minor": 2
}
